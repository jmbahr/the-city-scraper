{
 "cells": [
  {
   "cell_type": "markdown",
   "id": "cd8a3a2e",
   "metadata": {},
   "source": [
    "# Accessing Cincinnati's Open Data\n",
    "> A tutorial of how to access Cincinnati's Open Data portal via API.\n",
    "\n",
    "- toc: true \n",
    "- badges: true\n",
    "- comments: true\n",
    "- categories: [jupyter]\n",
    "- image: images/chart-preview.png"
   ]
  },
  {
   "cell_type": "markdown",
   "id": "8e38edef",
   "metadata": {},
   "source": [
    "# About\n",
    "\n",
    "This notebook demonstrates some of the developer capabilities available for interacting with the City of Cincinnati's Open Data portal.\n",
    "\n",
    "Downloading data to a local machine is manual, inefficient, and not reproducible.  This demonstration aims to illustrate how to directly read these data assets into your notebook session while also applying additional logic, such as basic filtering or aggregations."
   ]
  },
  {
   "cell_type": "code",
   "execution_count": null,
   "id": "4185d0ee",
   "metadata": {},
   "outputs": [],
   "source": []
  },
  {
   "cell_type": "code",
   "execution_count": 4,
   "id": "9b7fa076",
   "metadata": {},
   "outputs": [],
   "source": [
    "import pandas as pd"
   ]
  },
  {
   "cell_type": "code",
   "execution_count": null,
   "id": "af80773e",
   "metadata": {},
   "outputs": [],
   "source": []
  }
 ],
 "metadata": {
  "kernelspec": {
   "display_name": "Python 3",
   "language": "python",
   "name": "python3"
  },
  "language_info": {
   "codemirror_mode": {
    "name": "ipython",
    "version": 3
   },
   "file_extension": ".py",
   "mimetype": "text/x-python",
   "name": "python",
   "nbconvert_exporter": "python",
   "pygments_lexer": "ipython3",
   "version": "3.8.10"
  }
 },
 "nbformat": 4,
 "nbformat_minor": 5
}
