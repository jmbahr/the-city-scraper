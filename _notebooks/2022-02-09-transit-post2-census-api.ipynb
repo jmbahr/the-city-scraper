{
 "cells": [
  {
   "cell_type": "markdown",
   "id": "2a52a32a",
   "metadata": {},
   "source": [
    "# Chicago's Pandemic Rail Ridership - Part 2 Neighborhood Demographics\n",
    "> Utilizing the Census API to estimate neighborhood demographics.\n",
    "\n",
    "- toc: true \n",
    "- badges: true\n",
    "- comments: true\n",
    "- categories: [transit]\n",
    "- image: images/2022-02-09-census.jpeg"
   ]
  },
  {
   "cell_type": "markdown",
   "id": "65fe88fc",
   "metadata": {},
   "source": [
    "## In this Post\n",
    "\n",
    "In this post we will explore the Census API, allowing us to read in 5-year American Community Survey (ACS) microdata.  We use this data given its improved stability and capabilities to drill down to the block-group level.  In Part 3, this will enable us to estimate granular demographic characteristics within a specified distance from each transit stop."
   ]
  },
  {
   "cell_type": "markdown",
   "id": "9c2ff825",
   "metadata": {},
   "source": [
    "## Setup"
   ]
  },
  {
   "cell_type": "code",
   "execution_count": 2,
   "id": "19a50578",
   "metadata": {},
   "outputs": [],
   "source": [
    "import pandas as pd\n",
    "import numpy as np"
   ]
  },
  {
   "cell_type": "markdown",
   "id": "6a7e0809",
   "metadata": {},
   "source": [
    "## Define Variables\n",
    "\n",
    "While the Census API is extremely handy to avoid manually downloading data extracts, it is a bit manual to select relevant columns.  The Census Bureau provides an exhaustive data dictionary for each API it publishes.  In this case, we are able to use the 2019 5-year microdata data dictionary, found at [this link](https://api.census.gov/data/2019/acs/acs5/groups.html).\n",
    "\n",
    "The level of grain of this data is at the census block-group level.  Thus, most variables are simply the sum of individuals that represent that particular characteristic or fall within a given range.  For instance, there will be  a variable that represents the number of married individuals, a variable that represents the number of single individuals, and additional variables for other marital statuses.  Furthermore, there are variables that represent the number of individuals that fall within a given income range.\n",
    "\n",
    "Below, we create strings that include the name of variables we would like to include in our query.  These variables represent different income ranges and different levels of education.  As you can see, each topic has a general structure with different values to indicate different ranges of income or levels of education."
   ]
  },
  {
   "cell_type": "code",
   "execution_count": 3,
   "id": "b0410112",
   "metadata": {},
   "outputs": [],
   "source": [
    "# iterate through income variables to create string for query\n",
    "# B19001_011E is the first range that exceeds $50K\n",
    "# we are looking specifically at the % of individuals making less than $50K\n",
    "# so only need to count the number making over relative to total\n",
    "income_vars = \"\"\n",
    "for i in range(11,18):\n",
    "    i_padded = str(i).rjust(2, '0')\n",
    "    income_value = f\"B19001_0{i_padded}E\"\n",
    "    income_vars = income_vars + income_value + \",\"\n",
    "\n",
    "# iterate through education variables to create string for query\n",
    "educ_vars = \"\"\n",
    "for i in range(1,17):\n",
    "    i_padded = str(i).rjust(2, '0')\n",
    "    educ_value = f\"B15003_0{i_padded}E\"\n",
    "    educ_vars = educ_vars + educ_value + \",\""
   ]
  },
  {
   "cell_type": "markdown",
   "id": "5567b9bc",
   "metadata": {},
   "source": [
    "## Generate Query\n",
    "\n",
    "Queries follow a straightforward pattern.  They stem from a base URL that must specify the appropriate year.  The base URL is followed by a `get` argument, where we are able to specify the variables we would like returned.  Finally, we must specify the geography of interest in the `for` argument.  We must specify the **block-group code**, **state**, and **county code** to return.  In this case I am returning every county and block-group in the state of Illinois."
   ]
  },
  {
   "cell_type": "code",
   "execution_count": 4,
   "id": "7da47aa5",
   "metadata": {},
   "outputs": [],
   "source": [
    "# percent of residents over 50k in income +\n",
    "# percent in poverty\n",
    "# percent people of color \n",
    "# percent less than hs diploma\n",
    "\n",
    "\n",
    "variable_dict = {\"B01001_001E\": \"total_population\",\n",
    "                 \"B17020_001E\": \"poverty_status\",\n",
    "                 \"B19001_001E\": \"total_pop_income\",\n",
    "                 \"B01001H_001E\": \"white_non_hispanic_population\"}\n",
    "\n",
    "\n",
    "# define year\n",
    "acs_year = \"2019\"\n",
    "\n",
    "# dynamic base URL based on year\n",
    "base_url = f\"https://api.census.gov/data/{acs_year}/acs/acs5\"\n",
    "\n",
    "# create string of variables to return\n",
    "variable_names = f\"NAME,B19001_001E,{income_vars}{educ_vars}B01001_002E,B02001_002E,B02001_001E\"\n",
    "\n",
    "# create geography query, specifiying the state, county, and block group\n",
    "state_code = \"17\"\n",
    "county_code = \"*\"\n",
    "block_group_code = \"*\"\n",
    "geo_query = f\"block%20group:{block_group_code}&in=state:{state_code}%20county:{county_code}\"\n",
    "\n",
    "# combine elements of our query\n",
    "query = f\"{base_url}?get={variable_names}&for={geo_query}\""
   ]
  },
  {
   "cell_type": "markdown",
   "id": "312071d4",
   "metadata": {},
   "source": [
    "## Read Data"
   ]
  },
  {
   "cell_type": "code",
   "execution_count": 5,
   "id": "3fa7aa6e",
   "metadata": {},
   "outputs": [],
   "source": [
    "# read in query using pandas read_json function\n",
    "census_df = pd.read_json(query)\n",
    "\n",
    "# convert first row to column names\n",
    "census_df.columns = census_df.iloc[0]\n",
    "census_df = census_df[1:]\n",
    "\n",
    "\n",
    "# convert value columns to numeric\n",
    "value_cols = census_df.filter(regex='B').columns\n",
    "\n",
    "census_df[value_cols] = census_df[value_cols].apply(pd.to_numeric, errors='coerce', axis = 1)"
   ]
  },
  {
   "cell_type": "markdown",
   "id": "dbe67bdd",
   "metadata": {},
   "source": [
    "## Derive Metrics\n",
    "\n",
    "Now, we aim to derive new columns to measure the following:\n",
    "\n",
    "- The number of households without a highschool degree\n",
    "- The number of households that identify as BIPOC\n",
    "- The number of households making less than $50K a year\n",
    "\n",
    "Given our variables are just total counts of individuals that satisfy different characteristics, our derived metrics are the result of simply taking the sum of different columns.  The results are summable across geographies."
   ]
  },
  {
   "cell_type": "code",
   "execution_count": 6,
   "id": "b0f22ef1",
   "metadata": {},
   "outputs": [],
   "source": [
    "census_derived_df = census_df \\\n",
    "    .assign(n_over_50k = lambda x: x['B19001_011E'] + x['B19001_012E'] + x['B19001_013E'] + x['B19001_014E'] +\n",
    "                                   x['B19001_015E'] + x['B19001_016E'] + x['B19001_017E'],\n",
    "            total_income = lambda x: x['B19001_001E'],\n",
    "            pct_over_50k = lambda x: x['n_over_50k'] / x['total_income'],\n",
    "            n_poc = lambda x: x['B02001_001E'] - x['B02001_002E'],\n",
    "            total_race = lambda x: x['B02001_001E'],\n",
    "            pct_poc = lambda x: x['n_poc'] / x['total_race'],\n",
    "            n_nohs = lambda x: x['B15003_002E'] + x['B15003_003E'] + x['B15003_004E'] + x['B15003_005E'] +\n",
    "                               x['B15003_006E'] + x['B15003_007E'] + x['B15003_008E'] + x['B15003_009E'] +\n",
    "                               x['B15003_010E'] + x['B15003_011E'] + x['B15003_012E'] + x['B15003_013E'] +\n",
    "                               x['B15003_014E'] + x['B15003_015E'] + x['B15003_016E'],\n",
    "            total_educ = lambda x: x['B15003_001E'],\n",
    "            pct_nohs = lambda x: x['n_nohs'] / x['total_educ'])\n",
    "\n",
    "census_derived_df.to_csv(\"../data/census_derived_df.csv\")"
   ]
  },
  {
   "cell_type": "markdown",
   "id": "436e6760",
   "metadata": {},
   "source": [
    "## Summary\n",
    "\n",
    "Using the Census API, we were able to programatically pull in relevant variables to estimate different demographic characteristics for a given geography.  In Part 3, we will look at how we tie these demographic characteristics to given transit stops based on proximity."
   ]
  }
 ],
 "metadata": {
  "kernelspec": {
   "display_name": "Python 3",
   "language": "python",
   "name": "python3"
  },
  "language_info": {
   "codemirror_mode": {
    "name": "ipython",
    "version": 3
   },
   "file_extension": ".py",
   "mimetype": "text/x-python",
   "name": "python",
   "nbconvert_exporter": "python",
   "pygments_lexer": "ipython3",
   "version": "3.7.7"
  }
 },
 "nbformat": 4,
 "nbformat_minor": 5
}
