{
 "cells": [
  {
   "cell_type": "markdown",
   "metadata": {},
   "source": [
    "# Chicago's Pandemic Rail Ridership - Part 1 Ridership Changes\n",
    "> A look at changes in Chicago rail ridership during the pandemic.\n",
    "\n",
    "- toc: true \n",
    "- badges: true\n",
    "- comments: true\n",
    "- categories: \n",
    "- image: "
   ]
  },
  {
   "cell_type": "markdown",
   "metadata": {},
   "source": [
    "## Chicago Rail Ridership Series\n",
    "\n",
    "Inspired by a [post](https://www.urban.org/urban-wire/transit-ridership-dropped-heavy-rail-stations-during-covid-19-pandemic-ridership-change-depended-neighborhood-characteristics) from the Urban Institute's blog, I wanted to reproduce and extend a portion of their analysis.  \n",
    "\n",
    "This analysis focuses on the City of Chicago and first investigates rail ridership changes between 2019 and 2020 from the months of April to June.  As the author's highlight, rail stops that saw different changes in ridership were likely to differ in demographic characteristics.\n",
    "\n",
    "While some individuals lost their jobs or were able to work from home, many essential workers still needed to get to a phyiscal location to do their job.  Thus it is reasonable to assume that rail stops with residents more likely to be essential workers would see less extreme declines in ridership.\n",
    "\n",
    "In order to conduct this analysis we will be looking at data from the Chicago Transit Authority (CTA).  It publishes daily, stop-specific ridership information that allows for robust analysis.  CTA also publishes rail stop information, including geographic coordinates.  Using American Community Survey data, we will be able to summarise the demographic characteristics of residents living within a half mile of each rail station.\n",
    "\n",
    "For this series, we will walk through several posts to highlight different techniques.  \n",
    "\n",
    "In the first post, we will simply read in the ridership data and analyze year-over-year changes by stop.  \n",
    "\n",
    "In our second post, we will combine the geographic coordinates of each stop with Census data to identify individuals that reside within a half mile of each stop.\n",
    "\n",
    "In our third post, we will summarise the demographic characteristics of the individuals falling within 0.5 miles of each stop.\n",
    "\n",
    "Finally, we will tie these together by investigating the relationships between demographic characteristics and ridership changes.\n",
    "\n",
    "From a policy perspective, this analysis provides grounds for investment in transit in neighborhoods that rely on it most heavily, especially in times of crisis.  In order to build resilient cities, **essential workers should have easy access to transit that is most readily available when they are most essential**.\n",
    "\n",
    "I'm excited, let's go!"
   ]
  },
  {
   "cell_type": "markdown",
   "metadata": {},
   "source": [
    "## In this Post\n",
    "\n",
    "In this post we will be keeping things simple.  We read in the [CTA daily rail ridership data](https://data.cityofchicago.org/Transportation/CTA-Ridership-L-Station-Entries-Daily-Totals/5neh-572f) and summarize changes in ridership across years."
   ]
  },
  {
   "cell_type": "markdown",
   "metadata": {},
   "source": [
    "## Setup\n",
    "\n",
    "For this post we need to have `pandas` available in our environment.  We also need to make the `generate_query` function outlined in [this post](./2021-08-19-read-socrata.ipynb) available."
   ]
  },
  {
   "cell_type": "code",
   "execution_count": 10,
   "metadata": {
    "scrolled": true
   },
   "outputs": [],
   "source": [
    "# load pandas\n",
    "import pandas as pd\n",
    "\n",
    "# import user-defined function to clean up soql queries\n",
    "from resources.config import generate_query"
   ]
  },
  {
   "cell_type": "markdown",
   "metadata": {},
   "source": [
    "## Read Data\n",
    "\n",
    "We will be using data from the Chicago Transit Authority that is warehoused within the City of Chicago's Open Data Portal.  Very conveniently, Chicago uses Socrata to warehouse their Open Data.  We can use the principles from [this post](./2021-08-19-read-socrata.ipynb) to help us read in the data."
   ]
  },
  {
   "cell_type": "code",
   "execution_count": 3,
   "metadata": {},
   "outputs": [],
   "source": [
    "ridership_endpoint = \"https://data.cityofchicago.org/resource/5neh-572f.json\"\n",
    "\n",
    "ridership_query = generate_query(endpoint_url=ridership_endpoint,\n",
    "                                 query = \"\"\"select station_id, \n",
    "                                                   date_extract_y(date) as year,\n",
    "                                                   date_extract_m(date) as month, \n",
    "                                                   sum(rides) as rides \n",
    "                                            where date>='2019-01-01'\n",
    "                                            and date<='2020-07-01'\n",
    "                                            group by station_id, \n",
    "                                                     date_extract_y(date),\n",
    "                                                     date_extract_m(date)\"\"\",\n",
    "                                 limit = 50000)\n",
    "\n",
    "rides_df = pd.read_json(ridership_query)"
   ]
  },
  {
   "cell_type": "markdown",
   "metadata": {},
   "source": [
    "## Aggregate Ridership\n",
    "\n",
    "Here, we filter to observations in April, May, and June and then summarise the number of rides by year."
   ]
  },
  {
   "cell_type": "code",
   "execution_count": 4,
   "metadata": {},
   "outputs": [
    {
     "data": {
      "text/html": [
       "<div>\n",
       "<style scoped>\n",
       "    .dataframe tbody tr th:only-of-type {\n",
       "        vertical-align: middle;\n",
       "    }\n",
       "\n",
       "    .dataframe tbody tr th {\n",
       "        vertical-align: top;\n",
       "    }\n",
       "\n",
       "    .dataframe thead th {\n",
       "        text-align: right;\n",
       "    }\n",
       "</style>\n",
       "<table border=\"1\" class=\"dataframe\">\n",
       "  <thead>\n",
       "    <tr style=\"text-align: right;\">\n",
       "      <th></th>\n",
       "      <th>station_id</th>\n",
       "      <th>year</th>\n",
       "      <th>rides</th>\n",
       "    </tr>\n",
       "  </thead>\n",
       "  <tbody>\n",
       "    <tr>\n",
       "      <th>0</th>\n",
       "      <td>40010</td>\n",
       "      <td>2019</td>\n",
       "      <td>140717</td>\n",
       "    </tr>\n",
       "    <tr>\n",
       "      <th>1</th>\n",
       "      <td>40010</td>\n",
       "      <td>2020</td>\n",
       "      <td>25533</td>\n",
       "    </tr>\n",
       "    <tr>\n",
       "      <th>2</th>\n",
       "      <td>40020</td>\n",
       "      <td>2019</td>\n",
       "      <td>284197</td>\n",
       "    </tr>\n",
       "    <tr>\n",
       "      <th>3</th>\n",
       "      <td>40020</td>\n",
       "      <td>2020</td>\n",
       "      <td>68098</td>\n",
       "    </tr>\n",
       "    <tr>\n",
       "      <th>4</th>\n",
       "      <td>40030</td>\n",
       "      <td>2019</td>\n",
       "      <td>125606</td>\n",
       "    </tr>\n",
       "  </tbody>\n",
       "</table>\n",
       "</div>"
      ],
      "text/plain": [
       "   station_id  year   rides\n",
       "0       40010  2019  140717\n",
       "1       40010  2020   25533\n",
       "2       40020  2019  284197\n",
       "3       40020  2020   68098\n",
       "4       40030  2019  125606"
      ]
     },
     "execution_count": 4,
     "metadata": {},
     "output_type": "execute_result"
    }
   ],
   "source": [
    "agg_rides_df = rides_df \\\n",
    "    .query(\"month == [4,5,6]\") \\\n",
    "    .groupby(['station_id','year'], as_index=False) \\\n",
    "    .aggregate({'rides':'sum'})\n",
    "\n",
    "agg_rides_df.head()"
   ]
  },
  {
   "cell_type": "markdown",
   "metadata": {},
   "source": [
    "## Pivot Ridership Data Wide by Year\n",
    "\n",
    "Using the `pivot` function, we pivout our data wide such that each station has a column for rides in both 2019 and 2020."
   ]
  },
  {
   "cell_type": "code",
   "execution_count": 5,
   "metadata": {},
   "outputs": [
    {
     "data": {
      "text/html": [
       "<div>\n",
       "<style scoped>\n",
       "    .dataframe tbody tr th:only-of-type {\n",
       "        vertical-align: middle;\n",
       "    }\n",
       "\n",
       "    .dataframe tbody tr th {\n",
       "        vertical-align: top;\n",
       "    }\n",
       "\n",
       "    .dataframe thead th {\n",
       "        text-align: right;\n",
       "    }\n",
       "</style>\n",
       "<table border=\"1\" class=\"dataframe\">\n",
       "  <thead>\n",
       "    <tr style=\"text-align: right;\">\n",
       "      <th>year</th>\n",
       "      <th>station_id</th>\n",
       "      <th>year_2019</th>\n",
       "      <th>year_2020</th>\n",
       "    </tr>\n",
       "  </thead>\n",
       "  <tbody>\n",
       "    <tr>\n",
       "      <th>0</th>\n",
       "      <td>40010</td>\n",
       "      <td>140717</td>\n",
       "      <td>25533</td>\n",
       "    </tr>\n",
       "    <tr>\n",
       "      <th>1</th>\n",
       "      <td>40020</td>\n",
       "      <td>284197</td>\n",
       "      <td>68098</td>\n",
       "    </tr>\n",
       "    <tr>\n",
       "      <th>2</th>\n",
       "      <td>40030</td>\n",
       "      <td>125606</td>\n",
       "      <td>40887</td>\n",
       "    </tr>\n",
       "    <tr>\n",
       "      <th>3</th>\n",
       "      <td>40040</td>\n",
       "      <td>564445</td>\n",
       "      <td>29337</td>\n",
       "    </tr>\n",
       "    <tr>\n",
       "      <th>4</th>\n",
       "      <td>40050</td>\n",
       "      <td>286127</td>\n",
       "      <td>41275</td>\n",
       "    </tr>\n",
       "  </tbody>\n",
       "</table>\n",
       "</div>"
      ],
      "text/plain": [
       "year  station_id  year_2019  year_2020\n",
       "0          40010     140717      25533\n",
       "1          40020     284197      68098\n",
       "2          40030     125606      40887\n",
       "3          40040     564445      29337\n",
       "4          40050     286127      41275"
      ]
     },
     "execution_count": 5,
     "metadata": {},
     "output_type": "execute_result"
    }
   ],
   "source": [
    "agg_rides_wide_df = agg_rides_df \\\n",
    "    .assign(year=lambda x: 'year_' + x['year'].astype(str)) \\\n",
    "    .pivot(index = 'station_id', columns='year', values='rides').reset_index()\n",
    "\n",
    "agg_rides_wide_df.head()"
   ]
  },
  {
   "cell_type": "markdown",
   "metadata": {},
   "source": [
    "## Calculate Year-Over-Year Change\n",
    "\n",
    "Finally, we calculate the change in ridership from 2019 to 2020."
   ]
  },
  {
   "cell_type": "code",
   "execution_count": 15,
   "metadata": {},
   "outputs": [
    {
     "data": {
      "text/html": [
       "<div>\n",
       "<style scoped>\n",
       "    .dataframe tbody tr th:only-of-type {\n",
       "        vertical-align: middle;\n",
       "    }\n",
       "\n",
       "    .dataframe tbody tr th {\n",
       "        vertical-align: top;\n",
       "    }\n",
       "\n",
       "    .dataframe thead th {\n",
       "        text-align: right;\n",
       "    }\n",
       "</style>\n",
       "<table border=\"1\" class=\"dataframe\">\n",
       "  <thead>\n",
       "    <tr style=\"text-align: right;\">\n",
       "      <th>year</th>\n",
       "      <th>station_id</th>\n",
       "      <th>year_2019</th>\n",
       "      <th>year_2020</th>\n",
       "      <th>abs_change</th>\n",
       "      <th>pct_change</th>\n",
       "    </tr>\n",
       "  </thead>\n",
       "  <tbody>\n",
       "    <tr>\n",
       "      <th>0</th>\n",
       "      <td>40010</td>\n",
       "      <td>140717</td>\n",
       "      <td>25533</td>\n",
       "      <td>-115184</td>\n",
       "      <td>-0.818551</td>\n",
       "    </tr>\n",
       "    <tr>\n",
       "      <th>1</th>\n",
       "      <td>40020</td>\n",
       "      <td>284197</td>\n",
       "      <td>68098</td>\n",
       "      <td>-216099</td>\n",
       "      <td>-0.760385</td>\n",
       "    </tr>\n",
       "    <tr>\n",
       "      <th>2</th>\n",
       "      <td>40030</td>\n",
       "      <td>125606</td>\n",
       "      <td>40887</td>\n",
       "      <td>-84719</td>\n",
       "      <td>-0.674482</td>\n",
       "    </tr>\n",
       "    <tr>\n",
       "      <th>3</th>\n",
       "      <td>40040</td>\n",
       "      <td>564445</td>\n",
       "      <td>29337</td>\n",
       "      <td>-535108</td>\n",
       "      <td>-0.948025</td>\n",
       "    </tr>\n",
       "    <tr>\n",
       "      <th>4</th>\n",
       "      <td>40050</td>\n",
       "      <td>286127</td>\n",
       "      <td>41275</td>\n",
       "      <td>-244852</td>\n",
       "      <td>-0.855746</td>\n",
       "    </tr>\n",
       "  </tbody>\n",
       "</table>\n",
       "</div>"
      ],
      "text/plain": [
       "year  station_id  year_2019  year_2020  abs_change  pct_change\n",
       "0          40010     140717      25533     -115184   -0.818551\n",
       "1          40020     284197      68098     -216099   -0.760385\n",
       "2          40030     125606      40887      -84719   -0.674482\n",
       "3          40040     564445      29337     -535108   -0.948025\n",
       "4          40050     286127      41275     -244852   -0.855746"
      ]
     },
     "execution_count": 15,
     "metadata": {},
     "output_type": "execute_result"
    }
   ],
   "source": [
    "rides_change_df = agg_rides_wide_df \\\n",
    "    .assign(abs_change = lambda x: x['year_2020'] - x['year_2019'],\n",
    "            pct_change = lambda x: x['abs_change'] / x['year_2019'])\n",
    "\n",
    "# write to csv for next post\n",
    "rides_change_df.to_csv(path_or_buf=\"./resources/rides_change_df.csv\")\n",
    "\n",
    "rides_change_df.head()"
   ]
  },
  {
   "cell_type": "markdown",
   "metadata": {},
   "source": [
    "## Summary"
   ]
  },
  {
   "cell_type": "markdown",
   "metadata": {},
   "source": [
    "We now have a clean data frame with changes in ridership for each rail station.  In the next post in the series we will explore how to identify Census respondents within a half mile of each station. "
   ]
  },
  {
   "cell_type": "code",
   "execution_count": null,
   "metadata": {},
   "outputs": [],
   "source": []
  }
 ],
 "metadata": {
  "kernelspec": {
   "display_name": "Python 3",
   "language": "python",
   "name": "python3"
  },
  "language_info": {
   "codemirror_mode": {
    "name": "ipython",
    "version": 3
   },
   "file_extension": ".py",
   "mimetype": "text/x-python",
   "name": "python",
   "nbconvert_exporter": "python",
   "pygments_lexer": "ipython3",
   "version": "3.7.7"
  },
  "varInspector": {
   "cols": {
    "lenName": 16,
    "lenType": 16,
    "lenVar": 40
   },
   "kernels_config": {
    "python": {
     "delete_cmd_postfix": "",
     "delete_cmd_prefix": "del ",
     "library": "var_list.py",
     "varRefreshCmd": "print(var_dic_list())"
    },
    "r": {
     "delete_cmd_postfix": ") ",
     "delete_cmd_prefix": "rm(",
     "library": "var_list.r",
     "varRefreshCmd": "cat(var_dic_list()) "
    }
   },
   "types_to_exclude": [
    "module",
    "function",
    "builtin_function_or_method",
    "instance",
    "_Feature"
   ],
   "window_display": false
  }
 },
 "nbformat": 4,
 "nbformat_minor": 4
}
